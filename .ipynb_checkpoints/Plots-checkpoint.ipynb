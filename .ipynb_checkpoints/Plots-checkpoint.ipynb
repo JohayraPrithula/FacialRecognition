{
 "cells": [
  {
   "cell_type": "code",
   "execution_count": 36,
   "id": "4c191e9d",
   "metadata": {},
   "outputs": [
    {
     "name": "stdout",
     "output_type": "stream",
     "text": [
      "Total number of embeddings :  (1102, 512)\n",
      "Total number of labels : 1102\n"
     ]
    }
   ],
   "source": [
    "\"\"\"\n",
    "Trine ML Model to Classify / Identify the person using extracted face embeddings\n",
    "\"\"\"\n",
    "\n",
    "from sklearn.preprocessing import LabelEncoder\n",
    "from sklearn.neighbors import KNeighborsClassifier\n",
    "from sklearn.metrics import accuracy_score\n",
    "from sklearn.svm import SVC\n",
    "import pickle\n",
    "import numpy as np\n",
    "import os\n",
    "import pandas as pd\n",
    "from sklearn.metrics import confusion_matrix\n",
    "from sklearn.model_selection import train_test_split\n",
    "from sklearn.model_selection import GridSearchCV\n",
    "from sklearn.metrics import classification_report\n",
    "import seaborn as sn; sn.set_theme()\n",
    "import warnings\n",
    "import matplotlib.pyplot as plt\n",
    "warnings.filterwarnings('ignore')\n",
    "\n",
    "\n",
    "currentDir = os.getcwd()\n",
    "\n",
    "# paths to embedding pickle file\n",
    "embeddingPickle = os.path.join(currentDir, \"output/FinalEmbeddings.pickle\")\n",
    "#embeddingPickle = os.path.join(currentDir, \"output/FinalEmbeddingsStandard.pickle\")\n",
    "\n",
    "# path to save recognizer pickle file\n",
    "recognizerPickle = os.path.join(currentDir, \"output/FinalRecognizer.pickle\")\n",
    "#recognizerPickle = os.path.join(currentDir, \"output/FinalRecognizerStandard.pickle\")\n",
    "\n",
    "# path to save labels pickle file\n",
    "labelPickle = os.path.join(currentDir, \"output/FinalLabel.pickle\")\n",
    "#labelPickle = os.path.join(currentDir, \"output/FinalLabelStandard.pickle\")\n",
    "\n",
    "# loading embeddings pickle\n",
    "data = pickle.loads(open(embeddingPickle, \"rb\").read())\n",
    "data_table = pd.DataFrame(data)\n",
    "data_table.to_csv(\"dataset.csv\")\n",
    "#data_table.to_csv(\"datasetStandard.csv\")\n",
    "data_table.drop(columns = [\"paths\" , \"names\"] , inplace = True)\n",
    "#data_table.drop(columns = [\"paths\" , \"imageIDs\"] , inplace = True)\n",
    "data_table.to_csv(\"datatable.csv\")\n",
    "#data_table.to_csv(\"datatableStandard.csv\")\n",
    "\n",
    "\n",
    "# encoding labels by names\n",
    "label = LabelEncoder()\n",
    "labels = label.fit_transform(data[\"names\"])\n",
    "\n",
    "\n",
    "# getting embeddings\n",
    "Embeddings = np.array(data[\"embeddings\"])\n",
    "\n",
    "\n",
    "\n",
    "X_train, X_test, y_train, y_test = train_test_split(Embeddings, labels, test_size=0.40, random_state=42)\n",
    "\n",
    "print(\"Total number of embeddings : \", Embeddings.shape)\n",
    "print(\"Total number of labels :\", len(labels))\n"
   ]
  },
  {
   "cell_type": "code",
   "execution_count": 23,
   "id": "9846d554",
   "metadata": {},
   "outputs": [
    {
     "name": "stdout",
     "output_type": "stream",
     "text": [
      "(441, 512)\n"
     ]
    }
   ],
   "source": [
    "recognizer = KNeighborsClassifier(n_neighbors=5)\n",
    "recognizer.fit(X_train, y_train)\n",
    "\n",
    "print(X_test.shape)\n",
    "prediction = recognizer.predict(X_test)\n",
    "\n",
    "acc = accuracy_score(y_test, prediction)"
   ]
  },
  {
   "cell_type": "code",
   "execution_count": 24,
   "id": "109a5f5a",
   "metadata": {},
   "outputs": [
    {
     "name": "stdout",
     "output_type": "stream",
     "text": [
      "TP [95, 56, 96, 80, 26, 97, 100, 81, 97, 88, 81, 94, 97]\n",
      "FN [0, 0, 0, 0, 0, 0, 0, 0, 0, 0, 0, 0, 0]\n",
      "FP [1, 0, 0, 2, 1, 2, 0, 1, 1, 3, 1, 1, 1]\n"
     ]
    }
   ],
   "source": [
    "main_dir = \"/dataset\"\n",
    "prev_person = 0\n",
    "\n",
    "TP = [0,0,0,0,0,0,0,0,0,0,0,0,0]\n",
    "FP = [0,0,0,0,0,0,0,0,0,0,0,0,0]\n",
    "FN = [0,0,0,0,0,0,0,0,0,0,0,0,0]\n",
    "pred = []\n",
    "\n",
    "\n",
    "for i in range(0, (len(labels))):\n",
    "    pred.append(recognizer.predict([Embeddings[i]])[0])\n",
    "    \n",
    "\n",
    "for i in range (0, 13):\n",
    "    for j in range(0,len(labels)):\n",
    "        \n",
    "        if i == labels[j] and i == pred[j]:\n",
    "            TP[i] += 1\n",
    "            \n",
    "        elif i == labels[j] and i != pred[j]:\n",
    "            FN[i] += 0\n",
    "            \n",
    "        elif i != labels[j] and i == pred[j]:\n",
    "            FP[i] += 1\n",
    "                \n",
    "print(\"TP\", TP)\n",
    "print(\"FN\", FN)\n",
    "print(\"FP\", FP)\n",
    "                \n",
    "            \n",
    "    "
   ]
  },
  {
   "cell_type": "code",
   "execution_count": 32,
   "id": "42daa547",
   "metadata": {},
   "outputs": [
    {
     "data": {
      "text/plain": [
       "array([[ 95,   0,   0,   0,   0,   0,   0,   0,   0,   0,   0,   0,   1],\n",
       "       [  0,  56,   0,   0,   0,   2,   0,   0,   1,   0,   0,   0,   0],\n",
       "       [  0,   0,  96,   0,   0,   0,   0,   0,   0,   0,   0,   0,   0],\n",
       "       [  0,   0,   0,  80,   0,   0,   0,   0,   0,   0,   1,   0,   0],\n",
       "       [  0,   0,   0,   1,  26,   0,   0,   1,   0,   1,   0,   0,   0],\n",
       "       [  0,   0,   0,   0,   0,  97,   0,   0,   0,   0,   0,   0,   0],\n",
       "       [  0,   0,   0,   0,   0,   0, 100,   0,   0,   0,   0,   0,   0],\n",
       "       [  0,   0,   0,   0,   1,   0,   0,  81,   0,   0,   0,   0,   0],\n",
       "       [  0,   0,   0,   0,   0,   0,   0,   0,  97,   0,   0,   0,   0],\n",
       "       [  0,   0,   0,   0,   0,   0,   0,   0,   0,  88,   0,   0,   0],\n",
       "       [  1,   0,   0,   0,   0,   0,   0,   0,   0,   0,  81,   0,   0],\n",
       "       [  0,   0,   0,   1,   0,   0,   0,   0,   0,   2,   0,  94,   0],\n",
       "       [  0,   0,   0,   0,   0,   0,   0,   0,   0,   0,   0,   1,  97]],\n",
       "      dtype=int64)"
      ]
     },
     "execution_count": 32,
     "metadata": {},
     "output_type": "execute_result"
    }
   ],
   "source": [
    "conf = confusion_matrix(labels, pred)\n",
    "conf"
   ]
  },
  {
   "cell_type": "code",
   "execution_count": 29,
   "id": "ae2e60bd",
   "metadata": {},
   "outputs": [
    {
     "data": {
      "image/png": "[encoded data removed]",
      "text/plain": [
       "<Figure size 432x288 with 2 Axes>"
      ]
     },
     "metadata": {},
     "output_type": "display_data"
    }
   ],
   "source": [
    "ax = sns.heatmap(conf)"
   ]
  },
  {
   "cell_type": "code",
   "execution_count": 37,
   "id": "cb98c76f",
   "metadata": {},
   "outputs": [
    {
     "ename": "NameError",
     "evalue": "name 'df_cm' is not defined",
     "output_type": "error",
     "traceback": [
      "\u001b[1;31m---------------------------------------------------------------------------\u001b[0m",
      "\u001b[1;31mNameError\u001b[0m                                 Traceback (most recent call last)",
      "\u001b[1;32mC:\\Users\\JOHAYR~1\\AppData\\Local\\Temp/ipykernel_21532/2396130036.py\u001b[0m in \u001b[0;36m<module>\u001b[1;34m\u001b[0m\n\u001b[0;32m      5\u001b[0m \u001b[1;33m\u001b[0m\u001b[0m\n\u001b[0;32m      6\u001b[0m \u001b[0msn\u001b[0m\u001b[1;33m.\u001b[0m\u001b[0mset\u001b[0m\u001b[1;33m(\u001b[0m\u001b[0mfont_scale\u001b[0m\u001b[1;33m=\u001b[0m\u001b[1;36m1.4\u001b[0m\u001b[1;33m)\u001b[0m \u001b[1;31m# for label size\u001b[0m\u001b[1;33m\u001b[0m\u001b[1;33m\u001b[0m\u001b[0m\n\u001b[1;32m----> 7\u001b[1;33m \u001b[0msn\u001b[0m\u001b[1;33m.\u001b[0m\u001b[0mheatmap\u001b[0m\u001b[1;33m(\u001b[0m\u001b[0mdf_cm\u001b[0m\u001b[1;33m,\u001b[0m \u001b[0mannot\u001b[0m\u001b[1;33m=\u001b[0m\u001b[1;32mTrue\u001b[0m\u001b[1;33m,\u001b[0m \u001b[0mcmap\u001b[0m\u001b[1;33m=\u001b[0m\u001b[1;34m\"Blues\"\u001b[0m\u001b[1;33m,\u001b[0m \u001b[0mfmt\u001b[0m\u001b[1;33m=\u001b[0m\u001b[1;34m'g'\u001b[0m\u001b[1;33m)\u001b[0m \u001b[1;31m# font size\u001b[0m\u001b[1;33m\u001b[0m\u001b[1;33m\u001b[0m\u001b[0m\n\u001b[0m\u001b[0;32m      8\u001b[0m \u001b[0mplt\u001b[0m\u001b[1;33m.\u001b[0m\u001b[0mxlabel\u001b[0m\u001b[1;33m(\u001b[0m\u001b[1;34m\"PREDICTED\"\u001b[0m\u001b[1;33m)\u001b[0m\u001b[1;33m\u001b[0m\u001b[1;33m\u001b[0m\u001b[0m\n\u001b[0;32m      9\u001b[0m \u001b[0mplt\u001b[0m\u001b[1;33m.\u001b[0m\u001b[0mylabel\u001b[0m\u001b[1;33m(\u001b[0m\u001b[1;34m\"ACTUAL\"\u001b[0m\u001b[1;33m)\u001b[0m\u001b[1;33m\u001b[0m\u001b[1;33m\u001b[0m\u001b[0m\n",
      "\u001b[1;31mNameError\u001b[0m: name 'df_cm' is not defined"
     ]
    },
    {
     "data": {
      "text/plain": [
       "<Figure size 720x504 with 0 Axes>"
      ]
     },
     "metadata": {},
     "output_type": "display_data"
    }
   ],
   "source": [
    "array = conf\n",
    "\n",
    "#df_cm = pd.DataFrame(array, ['Positive', 'Negative'], ['Positive', 'Negative'])\n",
    "plt.figure(figsize=(10,7))\n",
    "\n",
    "sn.set(font_scale=1.4) # for label size\n",
    "sn.heatmap( annot=True, cmap=\"Blues\", fmt='g') # font size\n",
    "plt.xlabel(\"PREDICTED\") \n",
    "plt.ylabel(\"ACTUAL\")\n",
    "plt.title('20gen30ep_Medium')\n",
    "plt.show()"
   ]
  },
  {
   "cell_type": "code",
   "execution_count": null,
   "id": "ae5ea84e",
   "metadata": {},
   "outputs": [],
   "source": []
  }
 ],
 "metadata": {
  "kernelspec": {
   "display_name": "Python 3 (ipykernel)",
   "language": "python",
   "name": "python3"
  },
  "language_info": {
   "codemirror_mode": {
    "name": "ipython",
    "version": 3
   },
   "file_extension": ".py",
   "mimetype": "text/x-python",
   "name": "python",
   "nbconvert_exporter": "python",
   "pygments_lexer": "ipython3",
   "version": "3.9.7"
  }
 },
 "nbformat": 4,
 "nbformat_minor": 5
}
