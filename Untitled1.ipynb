{
 "cells": [
  {
   "cell_type": "code",
   "execution_count": 10,
   "id": "d6e73cd1",
   "metadata": {},
   "outputs": [],
   "source": [
    "import os\n"
   ]
  },
  {
   "cell_type": "code",
   "execution_count": 33,
   "id": "9fcc0f76",
   "metadata": {
    "scrolled": true
   },
   "outputs": [
    {
     "name": "stdout",
     "output_type": "stream",
     "text": [
      "Alejandro_Toledo\n",
      "Alvaro_Uribe\n",
      "Amelie_Mauresmo\n",
      "Andre_Agassi\n",
      "Ariel_Sharon\n",
      "Arnold_Schwarzenegger\n",
      "Atal_Bihari_Vajpayee\n",
      "Bill_Clinton\n",
      "Carlos_Menem\n",
      "Colin_Powell\n",
      "David_Beckham\n",
      "Donald_Rumsfeld\n",
      "George_Robertson\n",
      "George_W_Bush\n",
      "Gerhard_Schroeder\n",
      "Gloria_Macapagal_Arroyo\n",
      "Gray_Davis\n",
      "Guillermo_Coria\n",
      "Hamid_Karzai\n",
      "Hans_Blix\n",
      "Hugo_Chavez\n",
      "Jack_Straw\n",
      "Jacques_Chirac\n",
      "Jean_Chretien\n",
      "Jennifer_Aniston\n",
      "Jennifer_Capriati\n",
      "Jennifer_Lopez\n",
      "Jeremy_Greenstock\n",
      "John_Ashcroft\n",
      "John_Negroponte\n",
      "Jose_Maria_Aznar\n",
      "Juan_Carlos_Ferrero\n",
      "Junichiro_Koizumi\n",
      "Kofi_Annan\n",
      "Laura_Bush\n",
      "Lindsay_Davenport\n",
      "Lleyton_Hewitt\n",
      "Luiz_Inacio_Lula_da_Silva\n",
      "Mahmoud_Abbas\n",
      "Megawati_Sukarnoputri\n",
      "Naomi_Watts\n",
      "Nestor_Kirchner\n",
      "Pete_Sampras\n",
      "Recep_Tayyip_Erdogan\n",
      "Ricardo_Lagos\n",
      "Roh_Moo-hyun\n",
      "Rudolph_Giuliani\n",
      "Saddam_Hussein\n",
      "Serena_Williams\n",
      "Silvio_Berlusconi\n",
      "Tiger_Woods\n",
      "Tom_Daschle\n",
      "Tom_Ridge\n",
      "Tony_Blair\n",
      "Vicente_Fox\n",
      "Vladimir_Putin\n",
      "Winona_Ryder\n"
     ]
    }
   ],
   "source": [
    "main_dir = r'C:\\Users\\Johayra Prithula\\OneDrive\\Desktop\\lfw_funneled'\n",
    "dst = r\"C:\\Users\\Johayra Prithula\\OneDrive\\Desktop\\LFW_dataset\"\n",
    "from distutils.dir_util import copy_tree\n",
    "\n",
    "a=[]\n",
    "for file in os.listdir(main_dir):\n",
    "    file_name = os.path.join(main_dir, file)\n",
    "    if len(os.listdir(file_name))>20:\n",
    "        a.append(file_name)\n",
    "        print(file)\n",
    "        dest = os.path.join(dst,file)\n",
    "        os.mkdir(dest)\n",
    "        copy_tree( file_name, dest)\n",
    "\n",
    "\n",
    "\n",
    "\n",
    "    "
   ]
  },
  {
   "cell_type": "code",
   "execution_count": null,
   "id": "fb045baf",
   "metadata": {},
   "outputs": [],
   "source": [
    "from shutil import copyfile\n",
    "\n",
    "for src\n",
    "copyfile(src, dst)\n"
   ]
  }
 ],
 "metadata": {
  "kernelspec": {
   "display_name": "Python 3 (ipykernel)",
   "language": "python",
   "name": "python3"
  },
  "language_info": {
   "codemirror_mode": {
    "name": "ipython",
    "version": 3
   },
   "file_extension": ".py",
   "mimetype": "text/x-python",
   "name": "python",
   "nbconvert_exporter": "python",
   "pygments_lexer": "ipython3",
   "version": "3.9.7"
  }
 },
 "nbformat": 4,
 "nbformat_minor": 5
}
